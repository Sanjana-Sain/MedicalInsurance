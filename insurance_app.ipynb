{
 "cells": [
  {
   "cell_type": "code",
   "execution_count": 16,
   "id": "a245ea5b",
   "metadata": {},
   "outputs": [],
   "source": [
    "import streamlit as st"
   ]
  },
  {
   "cell_type": "code",
   "execution_count": 17,
   "id": "406c26a5",
   "metadata": {},
   "outputs": [],
   "source": [
    "import pickle as pkl"
   ]
  },
  {
   "cell_type": "code",
   "execution_count": 18,
   "id": "1adc9700",
   "metadata": {
    "scrolled": true
   },
   "outputs": [],
   "source": [
    "model = pkl.load(open('insurance_charges.p', 'rb'))"
   ]
  },
  {
   "cell_type": "code",
   "execution_count": 19,
   "id": "5209ad9a",
   "metadata": {},
   "outputs": [
    {
     "data": {
      "text/plain": [
       "DeltaGenerator(_root_container=0, _provided_cursor=None, _parent=None, _block_type=None, _form_data=None)"
      ]
     },
     "execution_count": 19,
     "metadata": {},
     "output_type": "execute_result"
    }
   ],
   "source": [
    "st.title('MEDICAL INSURANCE COST PREDICTOR')"
   ]
  },
  {
   "cell_type": "code",
   "execution_count": 15,
   "id": "2620d050",
   "metadata": {},
   "outputs": [],
   "source": [
    "age = st.number_input('Age', min_value=1, max_value=100)\n",
    "sex = st.number_input('Sex (Male-0, Female-1)', min_value=0, max_value=1)\n",
    "bmi = st.number_input('BMI', min_value=10, max_value=50)\n",
    "children = st.number_input('Children', min_value=0, max_value=5)\n",
    "smoker = st.number_input('Smoker (No-0, Yes-1)', min_value=0, max_value=1)\n",
    "region_northeast = st.number_input('Region : Northeast', min_value=0, max_value=1)\n",
    "region_northwest = st.number_input('Region : Northwest', min_value=0, max_value=1)\n",
    "region_southeast = st.number_input('Region : Southeast', min_value=0, max_value=1)\n",
    "region_southwest = st.number_input('Region : Southwest', min_value=0, max_value=1)\n",
    "output=\"\"\n",
    "if st.button(\"Predict\"):\n",
    "    result = model.predict([[age, sex, bmi, children, smoker, region_northeast, region_northwest, region_southeast, region_southwest]])\n",
    "    st.success('The output of the above is {}'.format(result))"
   ]
  },
  {
   "cell_type": "code",
   "execution_count": null,
   "id": "f35a1dce",
   "metadata": {},
   "outputs": [],
   "source": []
  }
 ],
 "metadata": {
  "kernelspec": {
   "display_name": "Python 3 (ipykernel)",
   "language": "python",
   "name": "python3"
  },
  "language_info": {
   "codemirror_mode": {
    "name": "ipython",
    "version": 3
   },
   "file_extension": ".py",
   "mimetype": "text/x-python",
   "name": "python",
   "nbconvert_exporter": "python",
   "pygments_lexer": "ipython3",
   "version": "3.10.7"
  }
 },
 "nbformat": 4,
 "nbformat_minor": 5
}
